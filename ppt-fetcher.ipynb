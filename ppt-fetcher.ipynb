{
 "cells": [
  {
   "cell_type": "code",
   "execution_count": 2,
   "metadata": {},
   "outputs": [],
   "source": [
    "import os\n",
    "import re\n",
    "from bs4 import BeautifulSoup\n",
    "import requests"
   ]
  },
  {
   "cell_type": "code",
   "execution_count": 1,
   "metadata": {},
   "outputs": [
    {
     "data": {
      "text/plain": [
       "{'User-Agent': 'Mozilla/5.0 (Windows NT 10.0; Win64; x64) AppleWebKit/537.36 (KHTML, like Gecko) Chrome/95.0.4638.69 Safari/537.36'}"
      ]
     },
     "execution_count": 1,
     "metadata": {},
     "output_type": "execute_result"
    }
   ],
   "source": [
    "headers = {\n",
    "    'User-Agent': 'Mozilla/5.0 (Windows NT 10.0; Win64; x64) AppleWebKit/537.36 (KHTML, like Gecko) Chrome/95.0.4638.69 Safari/537.36'\n",
    "}\n",
    "headers"
   ]
  },
  {
   "cell_type": "code",
   "execution_count": 40,
   "metadata": {},
   "outputs": [],
   "source": [
    "site_url = 'http://www.chinacloud.cn'"
   ]
  },
  {
   "cell_type": "code",
   "execution_count": null,
   "metadata": {},
   "outputs": [],
   "source": [
    "base_url = 'http://www.chinacloud.cn/list.aspx?cid=13'"
   ]
  },
  {
   "cell_type": "code",
   "execution_count": 4,
   "metadata": {},
   "outputs": [
    {
     "data": {
      "text/plain": [
       "<Response [200]>"
      ]
     },
     "execution_count": 4,
     "metadata": {},
     "output_type": "execute_result"
    }
   ],
   "source": [
    "response = requests.get(base_url, headers=headers)\n",
    "response"
   ]
  },
  {
   "cell_type": "code",
   "execution_count": 17,
   "metadata": {},
   "outputs": [],
   "source": [
    "html_text = response.text"
   ]
  },
  {
   "cell_type": "code",
   "execution_count": 18,
   "metadata": {},
   "outputs": [
    {
     "data": {
      "text/plain": [
       "\n",
       "<!DOCTYPE html PUBLIC \"-//W3C//DTD XHTML 1.0 Transitional//EN\" \"http://www.w3.org/TR/xhtml1/DTD/xhtml1-transitional.dtd\">\n",
       "\n",
       "<html lang=\"zh\" xmlns=\"http://www.w3.org/1999/xhtml\">\n",
       "<head>\n",
       "<title>下载</title>\n",
       "<meta content=\"text/html;charset=utf-8\" http-equiv=\"content-type\"/>\n",
       "<link href=\"favicon.ico\" rel=\"icon\" type=\"image/x-icon\"/>\n",
       "<link href=\"favicon.ico\" rel=\"shortcut icon\" type=\"image/x-icon\"/>\n",
       "<meta content=\"本站由中国云计算专家委员会委员刘鹏教授主办。云计算(Cloud Computing)的一切均在里面，包括云计算概念、云计算技术、云计算应用、云计算学习、云计算机、云存储、云安全、云服务等。本站是资源丰富、分析深入、更新及时的云计算知识共享平台。\" name=\"description\"/>\n",
       "<meta content=\"云计算,大数据,虚拟化,桌面云,云计算论坛,云存储,云安全,云服务,云视频,云计算是什么,云计算概念,云计算平台,云计算技术,cloud computing\" name=\"keywords\"/>\n",
       "<meta content=\"iwms网站管理系统\" name=\"generator\"/>\n",
       "<meta content=\"fc2db324c540808b12f1c34dfb619f87\" name=\"360-site-verification\"/>\n",
       "<link href=\"style/iwms/style.css\" rel=\"stylesheet\" type=\"text/css\"/>\n",
       "<script src=\"inc/jquery.js\" type=\"text/javascript\"></script>\n",
       "<script src=\"inc/iwms.js\" type=\"text/javascript\"></script>\n",
       "<link href=\"rssFeed.aspx?cid=13\" rel=\"alternate\" title=\"下载\" type=\"application/rss+xml\"/>\n",
       "</head>\n",
       "<body>\n",
       "<script>\n",
       "var _hmt = _hmt || [];\n",
       "(function() {\n",
       "  var hm = document.createElement(\"script\");\n",
       "  hm.src = \"//hm.baidu.com/hm.js?cdeb88ad387866114ad48ccb1c3dcc99\";\n",
       "  var s = document.getElementsByTagName(\"script\")[0]; \n",
       "  s.parentNode.insertBefore(hm, s);\n",
       "})();\n",
       "</script>\n",
       "<div class=\"topBar\">\n",
       "<div class=\"twidth\">\n",
       "<div style=\"float:right\">\n",
       "<script src=\"inc/language.js\" type=\"text/javascript\"></script>\n",
       "</div>\n",
       "<div id=\"topUser\">你好，游客 <a href=\"#\" onclick=\"iwms.logPop()\" rel=\"nofollow\">登录</a>\n",
       "</div>\n",
       "</div>\n",
       "</div>\n",
       "<div class=\"twidth\">\n",
       "<div id=\"sitehead\">\n",
       "<div class=\"l\"></div>\n",
       "<div class=\"r\"></div>\n",
       "<div class=\"m\">\n",
       "<table width=\"100%\">\n",
       "<tr>\n",
       "<td colspan=\"2\">\n",
       "<script type=\"text/javascript\">iwms.loadAdv(\"http://www.chinacloud.cn/frm_adv.aspx?gid=38\");</script>\n",
       "</td>\n",
       "</tr>\n",
       "<tr align=\"center\">\n",
       "<td width=\"160\">\n",
       "<a href=\"http://www.chinacloud.cn/\"><img alt=\"\" height=\"88\" src=\"upload/sys/18091411176676.png\" width=\"318\"/></a>\n",
       "</td>\n",
       "<td>\n",
       "<script type=\"text/javascript\">iwms.loadAdv(\"http://www.chinacloud.cn/frm_adv.aspx?gid=39\");</script>\n",
       "</td>\n",
       "</tr></table>\n",
       "</div>\n",
       "</div>\n",
       "<div id=\"navbar\">\n",
       "<div class=\"l\"></div>\n",
       "<div class=\"r\"></div>\n",
       "<div class=\"m\">\n",
       "<a class=\"first\" href=\"/\">首页</a><a href=\"list.aspx?cid=69\" title=\"69\">业界动态</a><a href=\"list.aspx?cid=70\" title=\"70\">技术评论</a><a href=\"list.aspx?cid=71\" title=\"71\">云计算技术</a><a href=\"list.aspx?cid=30\">云存储</a><a href=\"list.aspx?cid=29\">云安全</a><a href=\"list.aspx?cid=28\">论文</a><a href=\"list.aspx?cid=40\" title=\"40\">会议</a><a href=\"list.aspx?cid=16\" title=\"16\">应用</a><a class=\"thisclass\" href=\"list.aspx?cid=13\" title=\"13\">下载</a><a href=\"list.aspx?cid=72\" title=\"72\">初学入门</a><a href=\"list.aspx?cid=93\">招标信息</a><a href=\"list.aspx?cid=95\">大数据时代</a>\n",
       "</div>\n",
       "</div>\n",
       "<div id=\"navsub\">\n",
       "<div class=\"l\"></div>\n",
       "<div class=\"r\"></div>\n",
       "<div class=\"m\">\n",
       "<div style=\"width:40%;float:left;\">  <a href=\"/\">首页</a> → <a href=\"list.aspx?cid=13\">下载</a></div>\n",
       "<div style=\"width:60%;float:right;\">\n",
       "<script type=\"text/javascript\">\n",
       "\tbRoll.init([]);\n",
       "\t</script>\n",
       "</div>\n",
       "</div>\n",
       "</div>\n",
       "<table cellpadding=\"0\" cellspacing=\"0\" id=\"middle\" width=\"100%\">\n",
       "<tr align=\"left\" valign=\"top\">\n",
       "<td>\n",
       "<div class=\"mframe mR\">\n",
       "<div class=\"tl\"></div>\n",
       "<div class=\"tr\"></div>\n",
       "<div class=\"tm\">\n",
       "<div class=\"moreR\"><a href=\"rssFeed.aspx?cid=13\" target=\"_blank\"><img alt=\"rss订阅\" class=\"icoRss\" src=\"pic/b.gif\"/></a> <a href=\"wap.aspx?cid=13\" target=\"_blank\"><img alt=\"手机访问\" class=\"icoWap\" src=\"pic/b.gif\"/></a> </div>\n",
       "<span class=\"tt\">下载</span>\n",
       "</div>\n",
       "<div class=\"wrapper\">\n",
       "<div class=\"ml\"></div>\n",
       "<div class=\"mr\"></div>\n",
       "<div class=\"mm\">\n",
       "<div class=\"summary\">\n",
       "<!--<div class=\"imgDiv\" style=\"float:right\"><a href=\"show.aspx?id=29141&amp;cid=13\" target=\"_blank\" class=\"imgLink\"><img src=\"style/iwms/no_picture.gif\" alt=\"【PPT】《智能系统》全套PPT下载\" width=\"120\" height=\"90\"/></a></div>-->\n",
       "<div class=\"cont\">\n",
       "<div class=\"title\"><a class=\"nLink\" href=\"show.aspx?id=29141&amp;cid=13\" target=\"_blank\">【PPT】《智能系统》全套PPT下载</a></div>\n",
       "<div class=\"sum\">《智能系统》全套PPT下载</div>\n",
       "<div class=\"foot\">\n",
       "<div style=\"float:right\"><a href=\"show.aspx?id=29141&amp;cid=13\" target=\"_blank\">【查看全文】</a></div>\n",
       "\t\t\t\t\t日期：<span>03月05日</span>\n",
       "\t\t\t\t\t作者：\n",
       "\t\t\t\t\t点击：<span>6311</span>\n",
       "</div>\n",
       "</div>\n",
       "</div>\n",
       "<div class=\"summary\">\n",
       "<div class=\"hr\"></div>\n",
       "<!--<div class=\"imgDiv\" style=\"float:right\"><a href=\"show.aspx?id=29140&amp;cid=13\" target=\"_blank\" class=\"imgLink\"><img src=\"style/iwms/no_picture.gif\" alt=\"【PPT】《人工智能》全套PPT下载\" width=\"120\" height=\"90\"/></a></div>-->\n",
       "<div class=\"cont\">\n",
       "<div class=\"title\"><a class=\"nLink\" href=\"show.aspx?id=29140&amp;cid=13\" target=\"_blank\">【PPT】《人工智能》全套PPT下载</a></div>\n",
       "<div class=\"sum\">《人工智能》全套PPT下载</div>\n",
       "<div class=\"foot\">\n",
       "<div style=\"float:right\"><a href=\"show.aspx?id=29140&amp;cid=13\" target=\"_blank\">【查看全文】</a></div>\n",
       "\t\t\t\t\t日期：<span>03月05日</span>\n",
       "\t\t\t\t\t作者：\n",
       "\t\t\t\t\t点击：<span>6684</span>\n",
       "</div>\n",
       "</div>\n",
       "</div>\n",
       "<div class=\"summary\">\n",
       "<div class=\"hr\"></div>\n",
       "<!--<div class=\"imgDiv\" style=\"float:right\"><a href=\"show.aspx?id=29139&amp;cid=13\" target=\"_blank\" class=\"imgLink\"><img src=\"style/iwms/no_picture.gif\" alt=\"【PPT】《人工智能概论》PPT\" width=\"120\" height=\"90\"/></a></div>-->\n",
       "<div class=\"cont\">\n",
       "<div class=\"title\"><a class=\"nLink\" href=\"show.aspx?id=29139&amp;cid=13\" target=\"_blank\">【PPT】《人工智能概论》PPT</a></div>\n",
       "<div class=\"sum\">《人工智能概论》PPT</div>\n",
       "<div class=\"foot\">\n",
       "<div style=\"float:right\"><a href=\"show.aspx?id=29139&amp;cid=13\" target=\"_blank\">【查看全文】</a></div>\n",
       "\t\t\t\t\t日期：<span>03月05日</span>\n",
       "\t\t\t\t\t作者：\n",
       "\t\t\t\t\t点击：<span>6361</span>\n",
       "</div>\n",
       "</div>\n",
       "</div>\n",
       "<div class=\"summary\">\n",
       "<div class=\"hr\"></div>\n",
       "<!--<div class=\"imgDiv\" style=\"float:right\"><a href=\"show.aspx?id=29138&amp;cid=13\" target=\"_blank\" class=\"imgLink\"><img src=\"style/iwms/no_picture.gif\" alt=\"【PPT】《云计算第三版》全套PPT下载\" width=\"120\" height=\"90\"/></a></div>-->\n",
       "<div class=\"cont\">\n",
       "<div class=\"title\"><a class=\"nLink\" href=\"show.aspx?id=29138&amp;cid=13\" target=\"_blank\">【PPT】《云计算第三版》全套PPT下载</a></div>\n",
       "<div class=\"sum\">《云计算第三版》全套PPT下载</div>\n",
       "<div class=\"foot\">\n",
       "<div style=\"float:right\"><a href=\"show.aspx?id=29138&amp;cid=13\" target=\"_blank\">【查看全文】</a></div>\n",
       "\t\t\t\t\t日期：<span>03月05日</span>\n",
       "\t\t\t\t\t作者：\n",
       "\t\t\t\t\t点击：<span>6726</span>\n",
       "</div>\n",
       "</div>\n",
       "</div>\n",
       "<div class=\"summary\">\n",
       "<div class=\"hr\"></div>\n",
       "<!--<div class=\"imgDiv\" style=\"float:right\"><a href=\"show.aspx?id=28801&amp;cid=20\" target=\"_blank\" class=\"imgLink\"><img src=\"style/iwms/no_picture.gif\" alt=\"《Python程序设计》全套PPT下载\" width=\"120\" height=\"90\"/></a></div>-->\n",
       "<div class=\"cont\">\n",
       "<div class=\"title\"><a class=\"nLink highlight\" href=\"show.aspx?id=28801&amp;cid=20\" target=\"_blank\">《Python程序设计》全套PPT下载</a></div>\n",
       "<div class=\"sum\">《Python程序设计》全套PPT下载</div>\n",
       "<div class=\"foot\">\n",
       "<div style=\"float:right\"><a href=\"show.aspx?id=28801&amp;cid=20\" target=\"_blank\">【查看全文】</a></div>\n",
       "\t\t\t\t\t日期：<span>03月03日</span>\n",
       "\t\t\t\t\t作者：\n",
       "\t\t\t\t\t点击：<span>50531</span>\n",
       "</div>\n",
       "</div>\n",
       "</div>\n",
       "<div class=\"summary\">\n",
       "<div class=\"hr\"></div>\n",
       "<!--<div class=\"imgDiv\" style=\"float:right\"><a href=\"show.aspx?id=28574&amp;cid=20\" target=\"_blank\" class=\"imgLink\"><img src=\"style/iwms/no_picture.gif\" alt=\"【PPT】《数据挖掘基础PPT》全套PPT下载\" width=\"120\" height=\"90\"/></a></div>-->\n",
       "<div class=\"cont\">\n",
       "<div class=\"title\"><a class=\"nLink highlight\" href=\"show.aspx?id=28574&amp;cid=20\" target=\"_blank\">【PPT】《数据挖掘基础PPT》全套PPT下载</a></div>\n",
       "<div class=\"sum\">《数据挖掘基础PPT》全套PPT下载</div>\n",
       "<div class=\"foot\">\n",
       "<div style=\"float:right\"><a href=\"show.aspx?id=28574&amp;cid=20\" target=\"_blank\">【查看全文】</a></div>\n",
       "\t\t\t\t\t日期：<span>03月03日</span>\n",
       "\t\t\t\t\t作者：\n",
       "\t\t\t\t\t点击：<span>50578</span>\n",
       "</div>\n",
       "</div>\n",
       "</div>\n",
       "<div class=\"summary\">\n",
       "<div class=\"hr\"></div>\n",
       "<!--<div class=\"imgDiv\" style=\"float:right\"><a href=\"show.aspx?id=28573&amp;cid=20\" target=\"_blank\" class=\"imgLink\"><img src=\"style/iwms/no_picture.gif\" alt=\"【PPT】《数据清洗PPT》全套PPT下载\" width=\"120\" height=\"90\"/></a></div>-->\n",
       "<div class=\"cont\">\n",
       "<div class=\"title\"><a class=\"nLink highlight\" href=\"show.aspx?id=28573&amp;cid=20\" target=\"_blank\">【PPT】《数据清洗PPT》全套PPT下载</a></div>\n",
       "<div class=\"sum\">《数据清洗PPT》全套PPT下载</div>\n",
       "<div class=\"foot\">\n",
       "<div style=\"float:right\"><a href=\"show.aspx?id=28573&amp;cid=20\" target=\"_blank\">【查看全文】</a></div>\n",
       "\t\t\t\t\t日期：<span>03月03日</span>\n",
       "\t\t\t\t\t作者：\n",
       "\t\t\t\t\t点击：<span>49665</span>\n",
       "</div>\n",
       "</div>\n",
       "</div>\n",
       "<div class=\"summary\">\n",
       "<div class=\"hr\"></div>\n",
       "<!--<div class=\"imgDiv\" style=\"float:right\"><a href=\"show.aspx?id=28572&amp;cid=20\" target=\"_blank\" class=\"imgLink\"><img src=\"style/iwms/no_picture.gif\" alt=\"【PPT】《大数据系统运维PPT》全套PPT下载\" width=\"120\" height=\"90\"/></a></div>-->\n",
       "<div class=\"cont\">\n",
       "<div class=\"title\"><a class=\"nLink highlight\" href=\"show.aspx?id=28572&amp;cid=20\" target=\"_blank\">【PPT】《大数据系统运维PPT》全套PPT下载</a></div>\n",
       "<div class=\"sum\">《大数据系统运维PPT》全套PPT下载</div>\n",
       "<div class=\"foot\">\n",
       "<div style=\"float:right\"><a href=\"show.aspx?id=28572&amp;cid=20\" target=\"_blank\">【查看全文】</a></div>\n",
       "\t\t\t\t\t日期：<span>03月03日</span>\n",
       "\t\t\t\t\t作者：\n",
       "\t\t\t\t\t点击：<span>48849</span>\n",
       "</div>\n",
       "</div>\n",
       "</div>\n",
       "<div class=\"summary\">\n",
       "<div class=\"hr\"></div>\n",
       "<!--<div class=\"imgDiv\" style=\"float:right\"><a href=\"show.aspx?id=28571&amp;cid=20\" target=\"_blank\" class=\"imgLink\"><img src=\"style/iwms/no_picture.gif\" alt=\"【PPT】《大数据实践PPT》全套PPT下载\" width=\"120\" height=\"90\"/></a></div>-->\n",
       "<div class=\"cont\">\n",
       "<div class=\"title\"><a class=\"nLink highlight\" href=\"show.aspx?id=28571&amp;cid=20\" target=\"_blank\">【PPT】《大数据实践PPT》全套PPT下载</a></div>\n",
       "<div class=\"sum\">《大数据实践PPT》全套PPT下载</div>\n",
       "<div class=\"foot\">\n",
       "<div style=\"float:right\"><a href=\"show.aspx?id=28571&amp;cid=20\" target=\"_blank\">【查看全文】</a></div>\n",
       "\t\t\t\t\t日期：<span>03月03日</span>\n",
       "\t\t\t\t\t作者：\n",
       "\t\t\t\t\t点击：<span>45939</span>\n",
       "</div>\n",
       "</div>\n",
       "</div>\n",
       "<div class=\"summary\">\n",
       "<div class=\"hr\"></div>\n",
       "<!--<div class=\"imgDiv\" style=\"float:right\"><a href=\"show.aspx?id=28570&amp;cid=20\" target=\"_blank\" class=\"imgLink\"><img src=\"style/iwms/no_picture.gif\" alt=\"【PPT】《大数据导论PPT》全套PPT下载\" width=\"120\" height=\"90\"/></a></div>-->\n",
       "<div class=\"cont\">\n",
       "<div class=\"title\"><a class=\"nLink highlight\" href=\"show.aspx?id=28570&amp;cid=20\" target=\"_blank\">【PPT】《大数据导论PPT》全套PPT下载</a></div>\n",
       "<div class=\"sum\">《大数据导论PPT》全套PPT下载</div>\n",
       "<div class=\"foot\">\n",
       "<div style=\"float:right\"><a href=\"show.aspx?id=28570&amp;cid=20\" target=\"_blank\">【查看全文】</a></div>\n",
       "\t\t\t\t\t日期：<span>03月03日</span>\n",
       "\t\t\t\t\t作者：\n",
       "\t\t\t\t\t点击：<span>48243</span>\n",
       "</div>\n",
       "</div>\n",
       "</div>\n",
       "<div class=\"summary\">\n",
       "<div class=\"hr\"></div>\n",
       "<!--<div class=\"imgDiv\" style=\"float:right\"><a href=\"show.aspx?id=28569&amp;cid=20\" target=\"_blank\" class=\"imgLink\"><img src=\"style/iwms/no_picture.gif\" alt=\"【PPT】《R语言PPT》全套PPT下载\" width=\"120\" height=\"90\"/></a></div>-->\n",
       "<div class=\"cont\">\n",
       "<div class=\"title\"><a class=\"nLink highlight\" href=\"show.aspx?id=28569&amp;cid=20\" target=\"_blank\">【PPT】《R语言PPT》全套PPT下载</a></div>\n",
       "<div class=\"sum\">《R语言PPT》全套PPT下载</div>\n",
       "<div class=\"foot\">\n",
       "<div style=\"float:right\"><a href=\"show.aspx?id=28569&amp;cid=20\" target=\"_blank\">【查看全文】</a></div>\n",
       "\t\t\t\t\t日期：<span>03月03日</span>\n",
       "\t\t\t\t\t作者：\n",
       "\t\t\t\t\t点击：<span>41905</span>\n",
       "</div>\n",
       "</div>\n",
       "</div>\n",
       "<div class=\"summary\">\n",
       "<div class=\"hr\"></div>\n",
       "<!--<div class=\"imgDiv\" style=\"float:right\"><a href=\"show.aspx?id=28568&amp;cid=20\" target=\"_blank\" class=\"imgLink\"><img src=\"style/iwms/no_picture.gif\" alt=\"【PPT】《Python语言PPT》全套PPT下载\" width=\"120\" height=\"90\"/></a></div>-->\n",
       "<div class=\"cont\">\n",
       "<div class=\"title\"><a class=\"nLink highlight\" href=\"show.aspx?id=28568&amp;cid=20\" target=\"_blank\">【PPT】《Python语言PPT》全套PPT下载</a></div>\n",
       "<div class=\"sum\">《Python语言PPT》全套PPT下载</div>\n",
       "<div class=\"foot\">\n",
       "<div style=\"float:right\"><a href=\"show.aspx?id=28568&amp;cid=20\" target=\"_blank\">【查看全文】</a></div>\n",
       "\t\t\t\t\t日期：<span>03月03日</span>\n",
       "\t\t\t\t\t作者：\n",
       "\t\t\t\t\t点击：<span>52343</span>\n",
       "</div>\n",
       "</div>\n",
       "</div>\n",
       "<div class=\"summary\">\n",
       "<div class=\"hr\"></div>\n",
       "<!--<div class=\"imgDiv\" style=\"float:right\"><a href=\"show.aspx?id=28567&amp;cid=20\" target=\"_blank\" class=\"imgLink\"><img src=\"style/iwms/no_picture.gif\" alt=\"【PPT】《数据挖掘PPT》全套PPT下载\" width=\"120\" height=\"90\"/></a></div>-->\n",
       "<div class=\"cont\">\n",
       "<div class=\"title\"><a class=\"nLink highlight\" href=\"show.aspx?id=28567&amp;cid=20\" target=\"_blank\">【PPT】《数据挖掘PPT》全套PPT下载</a></div>\n",
       "<div class=\"sum\">《数据挖掘PPT》全套PPT下载</div>\n",
       "<div class=\"foot\">\n",
       "<div style=\"float:right\"><a href=\"show.aspx?id=28567&amp;cid=20\" target=\"_blank\">【查看全文】</a></div>\n",
       "\t\t\t\t\t日期：<span>03月03日</span>\n",
       "\t\t\t\t\t作者：\n",
       "\t\t\t\t\t点击：<span>41843</span>\n",
       "</div>\n",
       "</div>\n",
       "</div>\n",
       "<div class=\"summary\">\n",
       "<div class=\"hr\"></div>\n",
       "<!--<div class=\"imgDiv\" style=\"float:right\"><a href=\"show.aspx?id=28566&amp;cid=20\" target=\"_blank\" class=\"imgLink\"><img src=\"style/iwms/no_picture.gif\" alt=\"【PPT】《深度学习PPT》全套PPT下载\" width=\"120\" height=\"90\"/></a></div>-->\n",
       "<div class=\"cont\">\n",
       "<div class=\"title\"><a class=\"nLink highlight\" href=\"show.aspx?id=28566&amp;cid=20\" target=\"_blank\">【PPT】《深度学习PPT》全套PPT下载</a></div>\n",
       "<div class=\"sum\"></div>\n",
       "<div class=\"foot\">\n",
       "<div style=\"float:right\"><a href=\"show.aspx?id=28566&amp;cid=20\" target=\"_blank\">【查看全文】</a></div>\n",
       "\t\t\t\t\t日期：<span>03月03日</span>\n",
       "\t\t\t\t\t作者：\n",
       "\t\t\t\t\t点击：<span>44527</span>\n",
       "</div>\n",
       "</div>\n",
       "</div>\n",
       "<div class=\"summary\">\n",
       "<div class=\"hr\"></div>\n",
       "<!--<div class=\"imgDiv\" style=\"float:right\"><a href=\"show.aspx?id=28565&amp;cid=20\" target=\"_blank\" class=\"imgLink\"><img src=\"style/iwms/no_picture.gif\" alt=\"【PPT】《大数据可视化PPT》全套PPT下载\" width=\"120\" height=\"90\"/></a></div>-->\n",
       "<div class=\"cont\">\n",
       "<div class=\"title\"><a class=\"nLink highlight\" href=\"show.aspx?id=28565&amp;cid=20\" target=\"_blank\">【PPT】《大数据可视化PPT》全套PPT下载</a></div>\n",
       "<div class=\"sum\"></div>\n",
       "<div class=\"foot\">\n",
       "<div style=\"float:right\"><a href=\"show.aspx?id=28565&amp;cid=20\" target=\"_blank\">【查看全文】</a></div>\n",
       "\t\t\t\t\t日期：<span>03月03日</span>\n",
       "\t\t\t\t\t作者：\n",
       "\t\t\t\t\t点击：<span>14038</span>\n",
       "</div>\n",
       "</div>\n",
       "</div>\n",
       "<div class=\"pager\"><ul><li class=\"p_total\">1/2</li><li class=\"p_current\">1</li><li><a href=\"?page=2&amp;cid=13\">2</a></li><li><a href=\"?page=2&amp;cid=13\" title=\"后页\">»</a></li><li><div><input onkeydown=\"pager.Jump(event,this)\" type=\"text\" value=\"2\"/></div><script src=\"inc/pager.js\" type=\"text/javascript\"></script><script type=\"text/javascript\">var pager=new iwmsPager(1,2,false);</script></li></ul></div>\n",
       "</div>\n",
       "</div>\n",
       "<div class=\"bl\"></div>\n",
       "<div class=\"br\"></div>\n",
       "<div class=\"bm\"></div>\n",
       "</div>\n",
       "</td>\n",
       "<td width=\"250\">\n",
       "<div class=\"lframe\">\n",
       "<div class=\"tl\"></div>\n",
       "<div class=\"tr\"></div>\n",
       "<div class=\"tm\">\n",
       "<span class=\"tt\">Digg排行</span>\n",
       "</div>\n",
       "<div class=\"wrapper\">\n",
       "<div class=\"ml\"></div>\n",
       "<div class=\"mr\"></div>\n",
       "<div class=\"mm\">\n",
       "<ul class=\"dnl\">\n",
       "<li><a class=\"highlight\" href=\"show.aspx?id=28568&amp;cid=20\" target=\"_blank\" title=\"【PPT】《Python语言PPT》全套PPT下载\"><span class=\"diggN\">37</span>【PPT】《Python语言PPT》全套</a></li>\n",
       "<li><a href=\"show.aspx?id=22137&amp;cid=20\" target=\"_blank\" title=\"《云计算（第三版）》配套PPT之一：第1章 大数据与云计算\"><span class=\"diggN\">15</span>《云计算（第三版）》配套PPT之</a></li>\n",
       "<li><a href=\"show.aspx?id=2399&amp;cid=13\" target=\"_blank\" title=\"315页电子书《云计算“傻瓜书”》（英文）\"><span class=\"diggN\">8</span>315页电子书《云计算“傻瓜书”</a></li>\n",
       "<li><a class=\"highlight\" href=\"show.aspx?id=28801&amp;cid=20\" target=\"_blank\"><span class=\"diggN\">6</span>《Python程序设计》全套PPT下载</a></li>\n",
       "<li><a class=\"highlight\" href=\"show.aspx?id=28564&amp;cid=20\" target=\"_blank\" title=\"【PPT】《云计算（第三版）》全套PPT下载\"><span class=\"diggN\">5</span>【PPT】《云计算（第三版）》全</a></li>\n",
       "<li><a href=\"show.aspx?id=26122&amp;cid=20\" target=\"_blank\" title=\"《大数据》配套PPT之一：第1章 大数据概念与应用\"><span class=\"diggN\">5</span>《大数据》配套PPT之一：第1章 </a></li>\n",
       "<li><a href=\"show.aspx?id=22693&amp;cid=13\" target=\"_blank\"><span class=\"diggN\">5</span>2015 移动技术白皮书</a></li>\n",
       "<li><a class=\"highlight\" href=\"show.aspx?id=22083&amp;cid=13\" target=\"_blank\" title=\"[PDF]云计算发展白皮书（2015 版）\"><span class=\"diggN\">5</span>[PDF]云计算发展白皮书（2015 版</a></li>\n",
       "<li><a href=\"show.aspx?id=23131&amp;cid=20\" target=\"_blank\" title=\"《云计算（第三版）》配套PPT之四十：第12章 总结与展望\"><span class=\"diggN\">4</span>《云计算（第三版）》配套PPT之</a></li>\n",
       "<li><a class=\"highlight\" href=\"show.aspx?id=19249&amp;cid=13\" target=\"_blank\" title=\"[PDF]中国云计算生态系统白皮书(2014-2015)\"><span class=\"diggN\">4</span>[PDF]中国云计算生态系统白皮书(</a></li>\n",
       "</ul>\n",
       "</div>\n",
       "</div>\n",
       "<div class=\"bl\"></div>\n",
       "<div class=\"br\"></div>\n",
       "<div class=\"bm\"></div>\n",
       "</div>\n",
       "<div class=\"lframe\">\n",
       "<div class=\"tl\"></div>\n",
       "<div class=\"tr\"></div>\n",
       "<div class=\"tm\">\n",
       "<span class=\"tt\">本周热门内容</span>\n",
       "</div>\n",
       "<div class=\"wrapper\">\n",
       "<div class=\"ml\"></div>\n",
       "<div class=\"mr\"></div>\n",
       "<div class=\"mm\">\n",
       "<ul class=\"nl\">\n",
       "<li><a class=\"highlight\" href=\"show.aspx?id=28564&amp;cid=20\" target=\"_blank\" title=\"【PPT】《云计算（第三版）》全套PPT下载\">【PPT】《云计算（第三版）》全套PPT</a></li>\n",
       "<li><a class=\"highlight\" href=\"show.aspx?id=28568&amp;cid=20\" target=\"_blank\" title=\"【PPT】《Python语言PPT》全套PPT下载\">【PPT】《Python语言PPT》全套PPT下</a></li>\n",
       "<li><a href=\"show.aspx?id=29138&amp;cid=13\" target=\"_blank\">【PPT】《云计算第三版》全套PPT下载</a></li>\n",
       "<li><a class=\"highlight\" href=\"show.aspx?id=28801&amp;cid=20\" target=\"_blank\">《Python程序设计》全套PPT下载</a></li>\n",
       "<li><a href=\"show.aspx?id=29140&amp;cid=13\" target=\"_blank\">【PPT】《人工智能》全套PPT下载</a></li>\n",
       "<li><a class=\"highlight\" href=\"show.aspx?id=28574&amp;cid=20\" target=\"_blank\" title=\"【PPT】《数据挖掘基础PPT》全套PPT下载\">【PPT】《数据挖掘基础PPT》全套PPT</a></li>\n",
       "<li><a href=\"show.aspx?id=29139&amp;cid=13\" target=\"_blank\">【PPT】《人工智能概论》PPT</a></li>\n",
       "<li><a class=\"highlight\" href=\"show.aspx?id=28573&amp;cid=20\" target=\"_blank\">【PPT】《数据清洗PPT》全套PPT下载</a></li>\n",
       "<li><a href=\"show.aspx?id=29141&amp;cid=13\" target=\"_blank\">【PPT】《智能系统》全套PPT下载</a></li>\n",
       "<li><a class=\"highlight\" href=\"show.aspx?id=28572&amp;cid=20\" target=\"_blank\" title=\"【PPT】《大数据系统运维PPT》全套PPT下载\">【PPT】《大数据系统运维PPT》全套</a></li>\n",
       "</ul>\n",
       "</div>\n",
       "</div>\n",
       "<div class=\"bl\"></div>\n",
       "<div class=\"br\"></div>\n",
       "<div class=\"bm\"></div>\n",
       "</div>\n",
       "<!--<div class=\"wrapper\">\n",
       "                    <div id=\"nav_keleyi_com\" style=\"height:477px;position:relative;top:0;width:250px;\">\n",
       "                    <img src=\"../upload/sys/top/kjtt.jpg\" alt=\"\" style=\"width:250px;height:477px;\"/>\n",
       "                    </div>\n",
       "                </div>-->\n",
       "<script type=\"text/javascript\">\n",
       "                    function menuFixed(id) {\n",
       "                        var obj = document.getElementById(id);\n",
       "                        var _getHeight = obj.offsetTop;\n",
       "\n",
       "                        window.onscroll = function() {\n",
       "                            changePos(id, _getHeight);\n",
       "                        }\n",
       "                    }\n",
       "                    function changePos(id, height) {\n",
       "                        var obj = document.getElementById(id);\n",
       "                        var scrollTop = document.documentElement.scrollTop || document.body.scrollTop;\n",
       "                        if (scrollTop < height) {\n",
       "                            obj.style.position = 'relative';\n",
       "                        } else {\n",
       "                            obj.style.position = 'fixed';\n",
       "                        }\n",
       "                    }\n",
       "                </script>\n",
       "<script type=\"text/javascript\">\n",
       "                    window.onload = function() {\n",
       "                        menuFixed('nav_keleyi_com');\n",
       "                    }\n",
       "                </script>\n",
       "</td>\n",
       "</tr>\n",
       "</table>\n",
       "<div id=\"footer\">\n",
       "<p style=\"text-align: center; line-height: 150%; margin-top: 7px;\">版权所有:© 2018-2019 <span style=\"line-height: 150%;\"><span style=\"color: #0000ee;\"><span style=\"text-decoration: underline;\">南京芯动信息技术有限公司</span></span>，保留一切权利。</span><a href=\"https://beian.miit.gov.cn/\" rel=\"nofollow\" style=\"line-height: 150%;\" target=\"_blank\">苏ICP备18051603号-1</a></p>\n",
       "<p>本站所转载、链接、引用及翻译的内容等，其版权属于各自合法的拥有者。</p>\n",
       "<p style=\"text-align: center; line-height: 150%; margin-top: 7px;\">本站创建、管理、商务合作： 1078583763#qq.com(用@代替#)</p>\n",
       "<p>\n",
       "<script type=\"text/javascript\">// <![CDATA[\n",
       "var cnzz_protocol = ((\"https:\" == document.location.protocol) ? \" https://\" : \" http://\");document.write(unescape(\"%3Cspan id='cnzz_stat_icon_3629960'%3E%3C/span%3E%3Cscript src='\" + cnzz_protocol + \"s24.cnzz.com/stat.php%3Fid%3D3629960%26show%3Dpic' type='text/javascript'%3E%3C/script%3E\"));\n",
       "// ]]></script>\n",
       "</p> Powered by <span style=\"font-weight:bold;font-family:arial;\"><a href=\"http://www.iwms.net/\" target=\"_blank\" title=\"iwms (.net framework 2.x/3.x Access)\">iwms 5.4</a></span>\n",
       "<div style=\"font:9px arial;color:#666\">Processed in 0.432 second(s), 6 queries, Gzip enabled</div>\n",
       "</div>\n",
       "</div>\n",
       "</body>\n",
       "</html>"
      ]
     },
     "execution_count": 18,
     "metadata": {},
     "output_type": "execute_result"
    }
   ],
   "source": [
    "soup = BeautifulSoup(html_text, 'html.parser')\n",
    "soup"
   ]
  },
  {
   "cell_type": "code",
   "execution_count": 21,
   "metadata": {},
   "outputs": [
    {
     "data": {
      "text/plain": [
       "[<a class=\"nLink\" href=\"show.aspx?id=29141&amp;cid=13\" target=\"_blank\">【PPT】《智能系统》全套PPT下载</a>,\n",
       " <a class=\"nLink\" href=\"show.aspx?id=29140&amp;cid=13\" target=\"_blank\">【PPT】《人工智能》全套PPT下载</a>,\n",
       " <a class=\"nLink\" href=\"show.aspx?id=29139&amp;cid=13\" target=\"_blank\">【PPT】《人工智能概论》PPT</a>,\n",
       " <a class=\"nLink\" href=\"show.aspx?id=29138&amp;cid=13\" target=\"_blank\">【PPT】《云计算第三版》全套PPT下载</a>,\n",
       " <a class=\"nLink highlight\" href=\"show.aspx?id=28801&amp;cid=20\" target=\"_blank\">《Python程序设计》全套PPT下载</a>,\n",
       " <a class=\"nLink highlight\" href=\"show.aspx?id=28574&amp;cid=20\" target=\"_blank\">【PPT】《数据挖掘基础PPT》全套PPT下载</a>,\n",
       " <a class=\"nLink highlight\" href=\"show.aspx?id=28573&amp;cid=20\" target=\"_blank\">【PPT】《数据清洗PPT》全套PPT下载</a>,\n",
       " <a class=\"nLink highlight\" href=\"show.aspx?id=28572&amp;cid=20\" target=\"_blank\">【PPT】《大数据系统运维PPT》全套PPT下载</a>,\n",
       " <a class=\"nLink highlight\" href=\"show.aspx?id=28571&amp;cid=20\" target=\"_blank\">【PPT】《大数据实践PPT》全套PPT下载</a>,\n",
       " <a class=\"nLink highlight\" href=\"show.aspx?id=28570&amp;cid=20\" target=\"_blank\">【PPT】《大数据导论PPT》全套PPT下载</a>,\n",
       " <a class=\"nLink highlight\" href=\"show.aspx?id=28569&amp;cid=20\" target=\"_blank\">【PPT】《R语言PPT》全套PPT下载</a>,\n",
       " <a class=\"nLink highlight\" href=\"show.aspx?id=28568&amp;cid=20\" target=\"_blank\">【PPT】《Python语言PPT》全套PPT下载</a>,\n",
       " <a class=\"nLink highlight\" href=\"show.aspx?id=28567&amp;cid=20\" target=\"_blank\">【PPT】《数据挖掘PPT》全套PPT下载</a>,\n",
       " <a class=\"nLink highlight\" href=\"show.aspx?id=28566&amp;cid=20\" target=\"_blank\">【PPT】《深度学习PPT》全套PPT下载</a>,\n",
       " <a class=\"nLink highlight\" href=\"show.aspx?id=28565&amp;cid=20\" target=\"_blank\">【PPT】《大数据可视化PPT》全套PPT下载</a>]"
      ]
     },
     "execution_count": 21,
     "metadata": {},
     "output_type": "execute_result"
    }
   ],
   "source": [
    "raw_link_list = soup.select('.nLink')\n",
    "raw_link_list"
   ]
  },
  {
   "cell_type": "code",
   "execution_count": 26,
   "metadata": {},
   "outputs": [
    {
     "data": {
      "text/plain": [
       "<a class=\"nLink\" href=\"show.aspx?id=29141&amp;cid=13\" target=\"_blank\">【PPT】《智能系统》全套PPT下载</a>"
      ]
     },
     "execution_count": 26,
     "metadata": {},
     "output_type": "execute_result"
    }
   ],
   "source": [
    "test = raw_link_list[0]\n",
    "test"
   ]
  },
  {
   "cell_type": "code",
   "execution_count": 27,
   "metadata": {},
   "outputs": [
    {
     "data": {
      "text/plain": [
       "bs4.element.Tag"
      ]
     },
     "execution_count": 27,
     "metadata": {},
     "output_type": "execute_result"
    }
   ],
   "source": [
    "type(test)"
   ]
  },
  {
   "cell_type": "code",
   "execution_count": 29,
   "metadata": {},
   "outputs": [
    {
     "data": {
      "text/plain": [
       "'<a class=\"nLink\" href=\"show.aspx?id=29141&amp;cid=13\" target=\"_blank\">【PPT】《智能系统》全套PPT下载</a>'"
      ]
     },
     "execution_count": 29,
     "metadata": {},
     "output_type": "execute_result"
    }
   ],
   "source": [
    "test = str(test)\n",
    "test"
   ]
  },
  {
   "cell_type": "code",
   "execution_count": 34,
   "metadata": {},
   "outputs": [
    {
     "data": {
      "text/plain": [
       "'<a class=\"nLink\" href=\"show.aspx?id=29141&cid=13\" target=\"_blank\">【PPT】《智能系统》全套PPT下载</a>'"
      ]
     },
     "execution_count": 34,
     "metadata": {},
     "output_type": "execute_result"
    }
   ],
   "source": [
    "sub_test = re.sub('&amp;', '&', test)\n",
    "sub_test"
   ]
  },
  {
   "cell_type": "code",
   "execution_count": 32,
   "metadata": {},
   "outputs": [
    {
     "data": {
      "text/plain": [
       "'<a class=\"nLink\" href=\"show.aspx?id=29141&amp;cid=13\" target=\"_blank\">【PPT】《智能系统》全套PPT下载</a>'"
      ]
     },
     "execution_count": 32,
     "metadata": {},
     "output_type": "execute_result"
    }
   ],
   "source": [
    "test"
   ]
  },
  {
   "cell_type": "code",
   "execution_count": 35,
   "metadata": {},
   "outputs": [
    {
     "data": {
      "text/plain": [
       "['show.aspx?id=29141&cid=13']"
      ]
     },
     "execution_count": 35,
     "metadata": {},
     "output_type": "execute_result"
    }
   ],
   "source": [
    "re.findall('href=\"(.*?)\"', sub_test)"
   ]
  },
  {
   "cell_type": "code",
   "execution_count": 41,
   "metadata": {},
   "outputs": [
    {
     "data": {
      "text/plain": [
       "['http://www.chinacloud.cn/show.aspx?id=29141&cid=13',\n",
       " 'http://www.chinacloud.cn/show.aspx?id=29140&cid=13',\n",
       " 'http://www.chinacloud.cn/show.aspx?id=29139&cid=13',\n",
       " 'http://www.chinacloud.cn/show.aspx?id=29138&cid=13',\n",
       " 'http://www.chinacloud.cn/show.aspx?id=28801&cid=20',\n",
       " 'http://www.chinacloud.cn/show.aspx?id=28574&cid=20',\n",
       " 'http://www.chinacloud.cn/show.aspx?id=28573&cid=20',\n",
       " 'http://www.chinacloud.cn/show.aspx?id=28572&cid=20',\n",
       " 'http://www.chinacloud.cn/show.aspx?id=28571&cid=20',\n",
       " 'http://www.chinacloud.cn/show.aspx?id=28570&cid=20',\n",
       " 'http://www.chinacloud.cn/show.aspx?id=28569&cid=20',\n",
       " 'http://www.chinacloud.cn/show.aspx?id=28568&cid=20',\n",
       " 'http://www.chinacloud.cn/show.aspx?id=28567&cid=20',\n",
       " 'http://www.chinacloud.cn/show.aspx?id=28566&cid=20',\n",
       " 'http://www.chinacloud.cn/show.aspx?id=28565&cid=20']"
      ]
     },
     "execution_count": 41,
     "metadata": {},
     "output_type": "execute_result"
    }
   ],
   "source": [
    "link_list = [\n",
    "    site_url+'/'+ re.findall('href=\"(.*?)\"', re.sub('&amp;', '&', str(raw_link)))[0] for raw_link in raw_link_list\n",
    "]\n",
    "link_list"
   ]
  },
  {
   "cell_type": "code",
   "execution_count": null,
   "metadata": {},
   "outputs": [],
   "source": []
  }
 ],
 "metadata": {
  "interpreter": {
   "hash": "971de8236d001e156202e75ab73a66f12817a181b09f6a4f3f5c915b9ed55cc8"
  },
  "kernelspec": {
   "display_name": "Python 3.7.5 64-bit",
   "name": "python3"
  },
  "language_info": {
   "codemirror_mode": {
    "name": "ipython",
    "version": 3
   },
   "file_extension": ".py",
   "mimetype": "text/x-python",
   "name": "python",
   "nbconvert_exporter": "python",
   "pygments_lexer": "ipython3",
   "version": "3.7.5"
  },
  "orig_nbformat": 4
 },
 "nbformat": 4,
 "nbformat_minor": 2
}
